{
 "cells": [
  {
   "cell_type": "code",
   "execution_count": 1,
   "id": "614ed787-4204-42f0-9468-44d2c88299fd",
   "metadata": {},
   "outputs": [],
   "source": [
    "#import statements\n",
    "import csv, random\n",
    "from copy import deepcopy\n",
    "import matplotlib.pyplot as plt\n",
    "import numpy as np\n",
    "import pandas as pd\n",
    "from sympy import *"
   ]
  },
  {
   "cell_type": "code",
   "execution_count": 64,
   "id": "a9cb22b8-d841-444f-b351-bd9f408a5bee",
   "metadata": {},
   "outputs": [],
   "source": [
    "#this is where the class code will go\n",
    "\n",
    "def cleanData(data):\n",
    "    #drop bad cols\n",
    "    new = data.drop(['x2.1', 'x3)'], axis=1)\n",
    "    #rename cols\n",
    "    dataframe = new.rename(columns={\"f(x1\": \"f(x)\"})\n",
    "    \n",
    "    #filter f(x) col for values q1-q3\n",
    "    fXfilter = dataframe['f(x)'].between(dataframe['f(x)'].quantile(.15), dataframe['f(x)'].quantile(.85))\n",
    "    # print(\"new dataframe\", fXfilter)\n",
    "    # x1filter = dataframe['x1'].between(dataframe['x1'].quantile(.15), dataframe['x1'].quantile(.85))\n",
    "    # print(\"new dataframe\", x1filter)\n",
    "    # x2filter = dataframe['x2'].between(dataframe['x2'].quantile(.15), dataframe['x2'].quantile(.85))\n",
    "    # print(\"new dataframe\", x2filter)\n",
    "    # x3filter = dataframe['x3'].between(dataframe['x3'].quantile(.15), dataframe['x3'].quantile(.85))\n",
    "    # print(\"new dataframe\", x3filter)\n",
    "   \n",
    "    for i in range(25000):\n",
    "        if fXfilter[i] == False:\n",
    "        # or x1filter[i] == False or x2filter[i] == False or x3filter[i] == False:\n",
    "            dataframe = dataframe.drop(i)\n",
    "\n",
    "    dataframe.set_axis(range(len(dataframe)), inplace=True)\n",
    "    return dataframe\n",
    "   "
   ]
  },
  {
   "cell_type": "code",
   "execution_count": 63,
   "id": "a23710ca-3ec2-49c5-b8a8-d32007b11c90",
   "metadata": {},
   "outputs": [
    {
     "name": "stdout",
     "output_type": "stream",
     "text": [
      "            x1       x2    x3    f(x)\n",
      "0      9609691  2256113  3.20  141.56\n",
      "1      9383433  8226381  3.33  465.22\n",
      "2      7537404   128622  1.01   63.79\n",
      "3      2020688  5365951  4.85   30.78\n",
      "4      8372570  8319333  6.65  105.05\n",
      "...        ...      ...   ...     ...\n",
      "17498  6493197  2488966  6.81   23.23\n",
      "17499  4967877  6722918  3.33  201.25\n",
      "17500  4690009   873667  3.47   22.70\n",
      "17501  6619466  9230097  5.38  140.80\n",
      "17502   843433  2604386  3.82   10.05\n",
      "\n",
      "[17503 rows x 4 columns]\n"
     ]
    }
   ],
   "source": [
    "def main():\n",
    "    with open('dataset2.csv', newline='') as csvfile:\n",
    "        data = list(csv.reader(csvfile))\n",
    "    data = data[1:]\n",
    "    train = data[0:20000]\n",
    "    test = data[20000:]\n",
    "    miniTrain = data[0:10]\n",
    "    \n",
    "    #dataframe for plots\n",
    "    df = pd.read_csv(\"dataset2.csv\")\n",
    "    cleanDF = cleanData(df)\n",
    "    print(cleanDF)\n",
    "    \n",
    "if __name__ == \"__main__\":\n",
    "    main()"
   ]
  },
  {
   "cell_type": "code",
   "execution_count": null,
   "id": "b391ba72-7944-4fba-b1e7-d852ef60f276",
   "metadata": {},
   "outputs": [],
   "source": []
  }
 ],
 "metadata": {
  "kernelspec": {
   "display_name": "Python 3.8",
   "language": "python",
   "name": "python3"
  },
  "language_info": {
   "codemirror_mode": {
    "name": "ipython",
    "version": 3
   },
   "file_extension": ".py",
   "mimetype": "text/x-python",
   "name": "python",
   "nbconvert_exporter": "python",
   "pygments_lexer": "ipython3",
   "version": "3.8.6"
  }
 },
 "nbformat": 4,
 "nbformat_minor": 5
}
