{
 "cells": [
  {
   "cell_type": "code",
   "execution_count": null,
   "metadata": {},
   "outputs": [],
   "source": [
    "#import statements"
   ]
  },
  {
   "cell_type": "code",
   "execution_count": null,
   "metadata": {},
   "outputs": [],
   "source": [
    "class Tree():\n",
    "    #initialize\n",
    "    print(\"initialize tree\")\n",
    "    # Node root\n",
    "    # make sure tree class is immutable\n",
    "\n",
    "    def evaluate(x):\n",
    "        #evaluates fitness of a tree\n",
    "        #needs to be very efficient\n",
    "\n",
    "        #scan/traverse tree for operators and look at left and right (its children)\n",
    "        #incorporate order of operations\n",
    "        #use if statements to determine next actions\n",
    "        #recursive function to solve subtrees\n",
    "        #ex: if + then add recursice simplification of one subtree to the simplification of other subtree\n",
    "        \n",
    "        #returns float or int\n",
    "        val = 0\n",
    "        return val\n",
    "\n",
    "    def initialPop(numNodes):\n",
    "        #start with one node\n",
    "        #generate random operation\n",
    "        #depending on operation determine children\n",
    "\n",
    "\n",
    "\n",
    "\n",
    "class Node():\n",
    "    #initialize\n",
    "    # Node parent, left, right\n",
    "    # Value: contents of the node (type: str)\n",
    "    print(\"initialize node\")\n",
    "\n",
    "\n",
    "    "
   ]
  }
 ],
 "metadata": {
  "language_info": {
   "name": "python"
  },
  "orig_nbformat": 4
 },
 "nbformat": 4,
 "nbformat_minor": 2
}
