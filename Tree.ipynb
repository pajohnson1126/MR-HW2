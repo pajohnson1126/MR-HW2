{
 "cells": [
  {
   "cell_type": "code",
   "execution_count": 13,
   "metadata": {},
   "outputs": [],
   "source": [
    "#import statements\n",
    "import csv, random"
   ]
  },
  {
   "cell_type": "code",
   "execution_count": 14,
   "metadata": {},
   "outputs": [
    {
     "name": "stdout",
     "output_type": "stream",
     "text": [
      "initialize tree\n",
      "initialize node\n"
     ]
    }
   ],
   "source": [
    "#termination criteria is when fitness < 0.01\n",
    "class Tree:\n",
    "    #initialize\n",
    "    print(\"initialize tree\")\n",
    "    # make sure tree class is immutable\n",
    "    def __init__(self):\n",
    "        '''\n",
    "        if copy is None:\n",
    "            self.root = randomTree()\n",
    "        else:\n",
    "            #not sure we need tuples ?\n",
    "            if type(order) != type(()):\n",
    "                raise ValueError('order must be specified using a tuple')\n",
    "            self.root = copy.root\n",
    "        '''\n",
    "        #initial tree -> call random tree generator\n",
    "        #mutated tree -> call clone; makes copy of tree with changes\n",
    "        # Node root\n",
    "        self.root = ''\n",
    "\n",
    "    def evaluate(x):\n",
    "        #evaluates fitness of a tree\n",
    "        #needs to be very efficient\n",
    "\n",
    "        #scan/traverse tree for operators and look at left and right (its children)\n",
    "        #incorporate order of operations\n",
    "        #use if statements to determine next actions\n",
    "        #recursive function to solve subtrees\n",
    "        #ex: if + then add recursice simplification of one subtree to the simplification of other subtree\n",
    "        \n",
    "        #returns float or int\n",
    "        val = 0\n",
    "        return val\n",
    "\n",
    "    def randomOp(self):\n",
    "        options = ['+', '-', '*', '/', 'x', '-2', '-1', '1', '2']\n",
    "        length = len(options)\n",
    "        #generate random operation\n",
    "        value = random.randint(0,length-1)\n",
    "        return value\n",
    "\n",
    "    def firstVal(self):\n",
    "        start = Node()\n",
    "        #set root of tree to first val\n",
    "        self.root = start\n",
    "\n",
    "        #generate random operation\n",
    "        val = self.randomOp()\n",
    "        #set node value\n",
    "        start.value = val\n",
    "        return start\n",
    "\n",
    "    def initialTree(self, node):\n",
    "        #start with one node\n",
    "        #node that are not leaf nodes needs to be an operator\n",
    "        #depending on operation determine children\n",
    "        \n",
    "        operators = ['+', '-', '*', '/']\n",
    "        #while loop\n",
    "        while(node.value in operators):\n",
    "        #check if value is operand and right -> break\n",
    "        # if operator or left-> continue\n",
    "            print()\n",
    "\n",
    "    def initialPop():\n",
    "        #calls initial tree to create initial population\n",
    "        print()\n",
    "\n",
    "class Node:\n",
    "    #initialize\n",
    "    print(\"initialize node\")\n",
    "    def __init__(self):\n",
    "        # Node parent, left, right\n",
    "        self.parent = ''\n",
    "        self.left = ''\n",
    "        self.right = ''\n",
    "        # Value: contents of the node (type: str)\n",
    "        self.value = ''\n",
    "\n",
    "# IN ORDER TREE TRAVERSAL\n",
    "# looks at node the second time you hit it\n",
    "# build string as you traverse; when you hit leaf node, add to string\n",
    "# when you hit parent for second time, add to string\n",
    "    "
   ]
  },
  {
   "cell_type": "code",
   "execution_count": 12,
   "metadata": {},
   "outputs": [
    {
     "name": "stdout",
     "output_type": "stream",
     "text": [
      "20000\n",
      "5000\n"
     ]
    }
   ],
   "source": [
    "def main():\n",
    "    with open('dataset1.csv', newline='') as csvfile:\n",
    "        data = list(csv.reader(csvfile))\n",
    "    data = data[1:]\n",
    "    train = data[0:20000]\n",
    "    test = data[20000:]\n",
    "    print(len(train))\n",
    "    print(len(test))\n",
    "    #print(data[0:10])\n",
    "\n",
    "if __name__ == \"__main__\":\n",
    "    main()"
   ]
  }
 ],
 "metadata": {
  "kernelspec": {
   "display_name": "base",
   "language": "python",
   "name": "python3"
  },
  "language_info": {
   "codemirror_mode": {
    "name": "ipython",
    "version": 3
   },
   "file_extension": ".py",
   "mimetype": "text/x-python",
   "name": "python",
   "nbconvert_exporter": "python",
   "pygments_lexer": "ipython3",
   "version": "3.9.7"
  },
  "orig_nbformat": 4,
  "vscode": {
   "interpreter": {
    "hash": "40d3a090f54c6569ab1632332b64b2c03c39dcf918b08424e98f38b5ae0af88f"
   }
  }
 },
 "nbformat": 4,
 "nbformat_minor": 2
}
